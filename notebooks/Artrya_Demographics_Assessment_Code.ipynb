{
 "cells": [
  {
   "cell_type": "markdown",
   "id": "6bea173e-2456-4102-9215-c9589380c86a",
   "metadata": {},
   "source": [
    "# Artrya Demographics Assessment"
   ]
  },
  {
   "cell_type": "markdown",
   "id": "08bc0794-4a4d-4771-b202-c3ebfc4ce35e",
   "metadata": {},
   "source": [
    "## Introduction\n",
    "\n",
    "### Objective\n",
    "The objective of this analysis is to understand and manipulate the dataset using inclusion and exclusion criteria files and to examine the depth and relevance of demographic details relevant to coronary artery disease (CAD) diagnosis. Through this assessment, we aim to understand how demographic details are represented and identify opportunities for enhancing their granularity to improve classification and diagnosis.\n",
    "\n",
    "### Dataset Description\n",
    "This project utilizes the following data sources:\n",
    "- **Primary Dataset**: A JSON file named `Artrya_primary_dataset.json`, which contains demographic and clinical data pertinent to CAD diagnosis.\n",
    "- **Inclusion and Exclusion Criteria**: Excel files (`inclusions.xlsx` and `exclusions.xlsx`) that provide criteria for filtering the primary dataset to ensure the analysis focuses on relevant cases.\n"
   ]
  },
  {
   "cell_type": "code",
   "execution_count": 7,
   "id": "6521781f-ac8d-4105-8892-d2edd91c3c66",
   "metadata": {},
   "outputs": [],
   "source": [
    "import pandas as pd\n",
    "import json\n",
    "import os\n",
    "import matplotlib.pyplot as plt\n",
    "import seaborn as sns"
   ]
  },
  {
   "cell_type": "markdown",
   "id": "04132736-4ab2-4a30-a950-70a643aac591",
   "metadata": {},
   "source": [
    "Read the primary dataset provided"
   ]
  },
  {
   "cell_type": "code",
   "execution_count": null,
   "id": "cec59d07-736d-4511-9296-82f879620b4b",
   "metadata": {},
   "outputs": [],
   "source": [
    "# Load the primary dataset\n",
    "with open('Artrya_primary_dataset.json') as f:\n",
    "    primary_data = json.load(f)\n",
    "\n",
    "# Convert to a DataFrame for easier manipulation\n",
    "primary_df = pd.DataFrame(primary_data)"
   ]
  },
  {
   "cell_type": "code",
   "execution_count": null,
   "id": "b61f0836-86d6-4765-854e-690c5bf47be5",
   "metadata": {},
   "outputs": [],
   "source": [
    "# Load the inclusion and exclusion files\n",
    "inclusion_df = pd.read_excel('inclusions.xlsx')\n",
    "exclusion_df = pd.read_excel('exclusions.xlsx')"
   ]
  },
  {
   "cell_type": "markdown",
   "id": "44817e96-0265-4585-a610-9031ed57b742",
   "metadata": {},
   "source": [
    "Data exploration to understand the structure of the data"
   ]
  },
  {
   "cell_type": "code",
   "execution_count": null,
   "id": "14b8afce-0aed-423b-846c-b176959c3985",
   "metadata": {},
   "outputs": [],
   "source": [
    "# Display the first few rows of the primary dataset\n",
    "print(primary_df.head())\n",
    "\n",
    "# Display the first few rows of the inclusion and exclusion datasets\n",
    "print(inclusion_df.head())\n",
    "print(exclusion_df.head())"
   ]
  },
  {
   "cell_type": "code",
   "execution_count": null,
   "id": "5bfbcb5e-5d6d-4e6e-a8b6-8d84f85836fe",
   "metadata": {},
   "outputs": [],
   "source": [
    "# Check data types\n",
    "print(primary_df.dtypes)\n",
    "print(inclusion_df.dtypes)\n",
    "print(exclusion_df.dtypes)"
   ]
  },
  {
   "cell_type": "code",
   "execution_count": null,
   "id": "761eda21-06a4-46a9-b767-f712369a6122",
   "metadata": {},
   "outputs": [],
   "source": [
    "# Explore the dataset structure\n",
    "num_rows, num_columns = primary_df.shape\n",
    "print(f\"Number of rows: {num_rows}\")\n",
    "print(f\"Number of columns: {num_columns}\")\n",
    "print(\"Variable names:\", primary_df.columns.tolist())\n",
    "\n",
    "# Display summary statistics\n",
    "print(primary_df.describe(include='all'))"
   ]
  },
  {
   "cell_type": "markdown",
   "id": "6f431939-b403-4a0c-9ef2-c5ccce20e66b",
   "metadata": {},
   "source": [
    "Review unique categories for all categorical variables and visualize the data, to get a glimpse of what it looks like using different visuals appropriate for different data types"
   ]
  },
  {
   "cell_type": "code",
   "execution_count": null,
   "id": "dbf4334d-c7cc-4654-b9b2-d98a7bce0dfc",
   "metadata": {},
   "outputs": [],
   "source": [
    "# Identify unique categories for categorical variables\n",
    "categorical_cols = primary_df.select_dtypes(include=['object']).columns\n",
    "unique_categories = {col: primary_df[col].unique() for col in categorical_cols}\n",
    "\n",
    "# Display unique categories\n",
    "for col, categories in unique_categories.items():\n",
    "    print(f\"\\nUnique categories for {col}:\")\n",
    "    print(categories)"
   ]
  },
  {
   "cell_type": "code",
   "execution_count": null,
   "id": "eda71bab-b361-4056-a2ea-df4aabc88535",
   "metadata": {},
   "outputs": [],
   "source": [
    "# Visualize age distribution\n",
    "plt.figure(figsize=(14, 6))\n",
    "sns.histplot(primary_df['age_generated'], bins=10, kde=True)\n",
    "plt.title('Age Distribution')\n",
    "plt.xlabel('Age')\n",
    "plt.ylabel('Frequency')\n",
    "plt.xticks(rotation=45)\n",
    "plt.grid(axis='y', linestyle='--', alpha=0.7)\n",
    "plt.show()"
   ]
  },
  {
   "cell_type": "code",
   "execution_count": null,
   "id": "52dd2d7e-8bc2-4a62-9526-b959833d8c6e",
   "metadata": {},
   "outputs": [],
   "source": [
    "# Visualize gender distribution\n",
    "plt.figure(figsize=(8, 5))\n",
    "sns.countplot(data=primary_df, x='sex', palette='pastel')\n",
    "plt.title('Gender Distribution')\n",
    "plt.xlabel('Gender')\n",
    "plt.ylabel('Count')\n",
    "plt.grid(axis='y', linestyle='--', alpha=0.7)\n",
    "plt.xticks(rotation=0)\n",
    "plt.show()"
   ]
  },
  {
   "cell_type": "code",
   "execution_count": null,
   "id": "ebe677f7-3074-41a7-8ab7-9f60a2844ff3",
   "metadata": {},
   "outputs": [],
   "source": [
    "# Visualize race distribution\n",
    "plt.figure(figsize=(12, 6))\n",
    "sns.countplot(data=primary_df, y='race_mapped', palette='muted')\n",
    "plt.title('Race Distribution')\n",
    "plt.xlabel('Count')\n",
    "plt.ylabel('Race')\n",
    "plt.grid(axis='x', linestyle='--', alpha=0.7)\n",
    "plt.show()"
   ]
  },
  {
   "cell_type": "code",
   "execution_count": null,
   "id": "fd63c12d-6140-4954-bd12-dfa33dc01790",
   "metadata": {},
   "outputs": [],
   "source": [
    "# Visualize ethnicity distribution\n",
    "plt.figure(figsize=(10, 5))\n",
    "sns.countplot(data=primary_df, x='ethnicity', palette='Set2')\n",
    "plt.title('Ethnicity Distribution')\n",
    "plt.xlabel('Ethnicity')\n",
    "plt.ylabel('Count')\n",
    "plt.grid(axis='y', linestyle='--', alpha=0.7)\n",
    "plt.xticks(rotation=45)\n",
    "plt.show()"
   ]
  },
  {
   "cell_type": "markdown",
   "id": "293c0838-9ff5-4468-8f71-b6645bbb159c",
   "metadata": {},
   "source": [
    "Now lets look at race and gender by stenosis severity using tabular summary and also assess the relationship between calcium score numerical ranges and the corresponding risk categories."
   ]
  },
  {
   "cell_type": "code",
   "execution_count": null,
   "id": "fc315085-cc3f-4a82-9fa8-f27ccdd99cf8",
   "metadata": {},
   "outputs": [],
   "source": [
    "# Set the figure size\n",
    "plt.figure(figsize=(12, 8))\n",
    "\n",
    "# Create a violin plot with a logarithmic scale for the calcium scores\n",
    "sns.violinplot(x='calcium_score_risk_cat', y='calcium_score_modified', data=primary_df)\n",
    "plt.yscale('log')  # Apply logarithmic scale to the y-axis\n",
    "\n",
    "# Add titles and labels\n",
    "plt.title('Calcium Score Distribution by Risk Category (Log Scale)')\n",
    "plt.xlabel('Calcium Score Risk Category')\n",
    "plt.ylabel('Calcium Score (Log Scale)')\n",
    "plt.xticks(rotation=45)\n",
    "\n",
    "# Show the plot\n",
    "plt.show()"
   ]
  },
  {
   "cell_type": "code",
   "execution_count": null,
   "id": "2987a4a6-226a-42a1-9caa-c1404c3f5cae",
   "metadata": {},
   "outputs": [],
   "source": [
    "# Group by risk category and calculate descriptive statistics for calcium scores\n",
    "calcium_score_stats = primary_df.groupby('calcium_score_risk_cat')['calcium_score_modified'].describe()\n",
    "calcium_score_stats"
   ]
  },
  {
   "cell_type": "markdown",
   "id": "f7fe37aa-c1e4-461e-9ecc-ba3e62f7753c",
   "metadata": {},
   "source": [
    "The distribution of calcium scores across plaque burden categories reveals diverse patterns. \"Extensive\" and \"Moderate\" plaque burdens show high variability, with a wide range of unique scores, indicating diverse calcification levels that necessitate individualized clinical assessments. In contrast, \"Minimal\" and \"No Plaque Burden\" categories exhibit concentrated scores at low or zero values, reflecting minor or absent calcification. This distribution highlights the complexity within higher burden categories and suggests the need for tailored risk management, while lower burden categories display expected uniformity in calcification absence or minimal presence."
   ]
  },
  {
   "cell_type": "markdown",
   "id": "86b96110-97e9-44a5-b8a6-8c24735bcf1e",
   "metadata": {},
   "source": [
    "Modify our dataset by adding the new column based on the criteria provided."
   ]
  },
  {
   "cell_type": "code",
   "execution_count": null,
   "id": "4b207fd9-b36d-4250-ac57-1fa661fbaed2",
   "metadata": {},
   "outputs": [],
   "source": [
    "# Load the inclusion and exclusion files\n",
    "inclusion_df = pd.read_excel('inclusions.xlsx')\n",
    "exclusion_df = pd.read_excel('exclusions.xlsx')\n",
    "\n",
    "# Ensure column names exist\n",
    "print(\"Columns in inclusion_df:\", inclusion_df.columns)\n",
    "print(\"Columns in exclusion_df:\", exclusion_df.columns)\n",
    "\n",
    "# Display unique IDs to verify\n",
    "print(\"Unique Inclusion IDs:\", inclusion_df['study_id'].unique())\n",
    "print(\"Unique Exclusion IDs:\", exclusion_df['study_id'].unique())\n",
    "\n",
    "# Ensure the study_id column in primary_df is consistent in type\n",
    "primary_df['study_id'] = primary_df['study_id'].astype(str)\n",
    "inclusion_df['study_id'] = inclusion_df['study_id'].astype(str)\n",
    "exclusion_df['study_id'] = exclusion_df['study_id'].astype(str)\n",
    "\n",
    "# Function to categorize IDs\n",
    "def categorize_id(row):\n",
    "    if row['study_id'] in inclusion_df['study_id'].values:\n",
    "        return 'include'\n",
    "    elif row['study_id'] in exclusion_df['study_id'].values:\n",
    "        return 'exclude'\n",
    "    else:\n",
    "        return 'to be determined'\n",
    "\n",
    "# Apply the function to create a new column\n",
    "primary_df['inclusion_status'] = primary_df.apply(categorize_id, axis=1)\n",
    "\n",
    "# Display the first few rows of the updated primary DataFrame\n",
    "primary_df.head()"
   ]
  },
  {
   "cell_type": "code",
   "execution_count": null,
   "id": "683015b3-94a8-40ca-b20f-29a0d8dd7fe3",
   "metadata": {},
   "outputs": [],
   "source": [
    "# Extract first five numeric characters from 'mod_patient_id'\n",
    "primary_df['treatment_site'] = primary_df['mod_patient_id'].str.extract(r'(\\d{5})')\n",
    "\n",
    "# Display the first few rows of the modified DataFrame\n",
    "primary_df.head()\n",
    "\n",
    "# Save the modified DataFrame to a CSV file\n",
    "primary_df.to_csv('Modified_Artrya_primary_dataset.csv', index=False)"
   ]
  },
  {
   "cell_type": "markdown",
   "id": "bd188b3f-ec27-4acf-9afb-8e2b1d6a5f8d",
   "metadata": {},
   "source": [
    "### Key Findings\n",
    "The analysis reveals that the current demographic details are not sufficiently granular for optimal classification. By refining these details to a more granular level, we can enhance the understanding and classification of individuals with CAD.\n",
    "\n",
    "In designing a study to collect race and ethnicity data in detailed form, it is crucial to consider both scientific objectives and the social and cultural contexts of the study population. A detailed and culturally sensitive approach to collecting race and ethnicity data is recommended. This approach should include:\n",
    "\n",
    "- Detailed subject self-identification.\n",
    "- Additional options such as \"other\" for flexibility.\n",
    "- Expansion of sub-options for various ethnic groups, such as:\n",
    "  - Asian: Chinese, Indian, Filipino, Vietnamese, Korean, Japanese, etc.\n",
    "  - Hispanic or Latino: Mexican, Puerto Rican, Cuban, Salvadoran, Dominican, etc.\n",
    "  - African: Nigerian, Ethiopian, Somali, Ghanaian, etc.\n",
    "  - Middle Eastern or North African: Egyptian, Iranian, Syrian, Lebanese, etc.\n",
    "\n",
    "By implementing such a detailed approach, the study can achieve a more nuanced understanding of health disparities, cultural influences, and social determinants of health. This careful categorization can ultimately lead to more targeted and effective interventions."
   ]
  },
  {
   "cell_type": "markdown",
   "id": "46db0c44-2460-45e8-b5b9-7d57abf21772",
   "metadata": {},
   "source": [
    "**Author:**\n",
    "\n",
    "**Fabian Msafiri**"
   ]
  }
 ],
 "metadata": {
  "kernelspec": {
   "display_name": "Python 3 (ipykernel)",
   "language": "python",
   "name": "python3"
  },
  "language_info": {
   "codemirror_mode": {
    "name": "ipython",
    "version": 3
   },
   "file_extension": ".py",
   "mimetype": "text/x-python",
   "name": "python",
   "nbconvert_exporter": "python",
   "pygments_lexer": "ipython3",
   "version": "3.12.7"
  }
 },
 "nbformat": 4,
 "nbformat_minor": 5
}
